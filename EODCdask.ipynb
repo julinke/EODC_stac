{
 "cells": [
  {
   "cell_type": "markdown",
   "id": "abf32569",
   "metadata": {},
   "source": [
    "## Using dask for EODC items\n",
    "\n",
    "In this notebook we are going to take a look at stac items we retrieved from EODC and try to adapt some dask worklow to it. The two cores of the dask library we are going to use are parallel processing and lazy loading. These two functions tie smoothly into our workflow because they allow us to keep working with stac items and their quality of just being mata data. That means that we can create a nice worklow without actually downloading any real data into our local RAM or memory. "
   ]
  },
  {
   "cell_type": "markdown",
   "id": "382f3537",
   "metadata": {},
   "source": [
    "## Import required packages"
   ]
  },
  {
   "cell_type": "code",
   "execution_count": 2,
   "id": "ebd893b5",
   "metadata": {},
   "outputs": [],
   "source": [
    "#These are the important packages we first need to import \n",
    "\n",
    "import os\n",
    "import json\n",
    "from datetime import datetime\n",
    "import numpy as np\n",
    "import xarray as xr\n",
    "import pandas as pd\n",
    "import matplotlib.pyplot as plt\n",
    "\n",
    "import pystac\n",
    "from pystac_client import Client\n",
    "from odc import stac as odc_stac\n",
    "from odc.geo.geobox import GeoBox\n",
    "from affine import Affine\n",
    "import sys\n",
    "\n",
    "import dask.dataframe as dd"
   ]
  },
  {
   "cell_type": "code",
   "execution_count": 3,
   "id": "6c03cc6f",
   "metadata": {},
   "outputs": [
    {
     "data": {
      "text/html": [
       "<style>.container { width:90% !important; }</style>"
      ],
      "text/plain": [
       "<IPython.core.display.HTML object>"
      ]
     },
     "metadata": {},
     "output_type": "display_data"
    }
   ],
   "source": [
    "#The code here adjusts the width of the nootebook display container\n",
    "\n",
    "from IPython.display import display, HTML\n",
    "display(HTML(\"<style>.container { width:90% !important; }</style>\"))"
   ]
  },
  {
   "cell_type": "code",
   "execution_count": 4,
   "id": "eccf6af2",
   "metadata": {},
   "outputs": [],
   "source": [
    "#This is how we access the AI4SAR collection via the stac_api\n",
    "\n",
    "stac_api = \"https://stac.eodc.eu/api/v1\"\n",
    "client = Client.open(stac_api)\n",
    "\n",
    "collection_id=\"AI4SAR_SIG0\""
   ]
  },
  {
   "cell_type": "code",
   "execution_count": 6,
   "id": "c71e13c0",
   "metadata": {},
   "outputs": [],
   "source": [
    "#Next we search for certain items in the AI4SAR_SIG0 collection, defining the area and time period\n",
    "collection_id=\"AI4SAR_SIG0\"\n",
    "\n",
    "bbox = [15.6, 47.7, 16.6, 48.7]  # [lon_min, lat_min, lon_max, lat_max]\n",
    "start_date = \"2023-01-01\"\n",
    "end_date = \"2023-10-31\"\n",
    "\n",
    "query = client.search(bbox=bbox,\n",
    "                        collections=[collection_id],\n",
    "                        datetime=f\"{start_date}/{end_date}\",\n",
    "                        )\n",
    "q_items = sorted(query.items(), key=lambda x: x.id)"
   ]
  },
  {
   "cell_type": "code",
   "execution_count": 7,
   "id": "36168177",
   "metadata": {},
   "outputs": [
    {
     "name": "stdout",
     "output_type": "stream",
     "text": [
      "<Item id=SIG0_20230418T050210_D124_EU020M_E051N015T3_S1AIWGRDH>\n",
      "<Item id=SIG0_20230512T050211_D124_EU020M_E051N015T3_S1AIWGRDH>\n",
      "<Item id=SIG0_20230617T050213_D124_EU020M_E051N015T3_S1AIWGRDH>\n",
      "\n",
      " The length of the list of items is 3\n"
     ]
    }
   ],
   "source": [
    "for item in q_items:\n",
    "    print(item)\n",
    "\n",
    "print(\"\\n\",\"The length of the list of items is\",len(q_items))\n",
    "\n"
   ]
  },
  {
   "cell_type": "code",
   "execution_count": 8,
   "id": "cb0882b4",
   "metadata": {},
   "outputs": [
    {
     "data": {
      "text/plain": [
       "{'gsd': 20,\n",
       " 'datetime': '2023-04-18T05:02:10Z',\n",
       " 'proj:bbox': [5100000, 1500000, 5400000, 1800000],\n",
       " 'proj:wkt2': 'PROJCS[\"Azimuthal_Equidistant\",GEOGCS[\"WGS 84\",DATUM[\"WGS_1984\",SPHEROID[\"WGS 84\",6378137,298.257223563,AUTHORITY[\"EPSG\",\"7030\"]],AUTHORITY[\"EPSG\",\"6326\"]],PRIMEM[\"Greenwich\",0],UNIT[\"degree\",0.0174532925199433],AUTHORITY[\"EPSG\",\"4326\"]],PROJECTION[\"Azimuthal_Equidistant\"],PARAMETER[\"latitude_of_center\",53],PARAMETER[\"longitude_of_center\",24],PARAMETER[\"false_easting\",5837287.81977],PARAMETER[\"false_northing\",2121415.69617],UNIT[\"metre\",1,AUTHORITY[\"EPSG\",\"9001\"]]]',\n",
       " 'proj:shape': [15000, 15000],\n",
       " 'constellation': 'sentinel-1',\n",
       " 'proj:geometry': {'type': 'Polygon',\n",
       "  'coordinates': [[[5100000.0, 1500000.0],\n",
       "    [5100000.0, 1800000.0],\n",
       "    [5400000.0, 1800000.0],\n",
       "    [5400000.0, 1500000.0],\n",
       "    [5100000.0, 1500000.0]]]},\n",
       " 'proj:transform': [20, 0, 5100000, 0, -20, 1800000],\n",
       " 'sat:orbit_state': 'descending',\n",
       " 'sar:product_type': 'GRD',\n",
       " 'sar:frequency_band': 'C',\n",
       " 'sat:relative_orbit': 124,\n",
       " 'sar:instrument_mode': 'IW',\n",
       " 'sar:center_frequency': 5.405,\n",
       " 'sar:resolution_range': 40,\n",
       " 'sar:resolution_azimuth': 40,\n",
       " 'sar:pixel_spacing_range': 20,\n",
       " 'sar:observation_direction': 'right',\n",
       " 'sar:pixel_spacing_azimuth': 20,\n",
       " 'sat:platform_international_designator': '2014-016A'}"
      ]
     },
     "execution_count": 8,
     "metadata": {},
     "output_type": "execute_result"
    }
   ],
   "source": [
    "#Here we take a look at the metadata of one item.\n",
    "\n",
    "q_items[0].properties"
   ]
  },
  {
   "cell_type": "code",
   "execution_count": null,
   "id": "eceec571",
   "metadata": {},
   "outputs": [],
   "source": []
  }
 ],
 "metadata": {
  "kernelspec": {
   "display_name": "Python 3 (ipykernel)",
   "language": "python",
   "name": "python3"
  },
  "language_info": {
   "codemirror_mode": {
    "name": "ipython",
    "version": 3
   },
   "file_extension": ".py",
   "mimetype": "text/x-python",
   "name": "python",
   "nbconvert_exporter": "python",
   "pygments_lexer": "ipython3",
   "version": "3.12.3"
  }
 },
 "nbformat": 4,
 "nbformat_minor": 5
}
