{
 "cells": [
  {
   "cell_type": "markdown",
   "id": "7aaf0eff",
   "metadata": {},
   "source": [
    "<img src=\"https://d33wubrfki0l68.cloudfront.net/22691a3c3002324451ed99f4009de8aab761e1b7/d24da/public/images-original/stac-01.png\"\n",
    "     style=\"margin-right: 10px; width: 25%\"/><img src=\"https://raw.githubusercontent.com/pydata/xarray/main/doc/_static/logos/Xarray_Logo_RGB_Final.png\"\n",
    "     style=\"margin-right: 10px; width: 25%\"/>\n",
    "\n",
    "# STAC\n",
    "\n",
    "STAC (SpatioTemporal Asset Catalog) is an open standard designed to facilitate the discovery, search, and use of geospatial data. It defines a common metadata model and web API, allowing users to catalog, search, and access various types of geospatial data, such as satellite imagery, aerial photos, and other spatial datasets. STAC aims to improve interoperability between different data providers and users, making it easier to work with large volumes of geospatial information in a standardized way.\n",
    "\n",
    "A STAC Catalog is the root document that provides links to Collections, Items, and other Catalogs, serving as an entry point to navigate the structure of geospatial data. A STAC Collection is a group of related Items that share common metadata, offering information about the dataset's spatial and temporal extent and linking to individual Items. A STAC Item represents a single geospatial asset, such as a satellite image or drone photograph, and includes metadata like acquisition time, location, and links to data files (Assets). An Asset is a data file associated with a STAC Item, including various types of data like images or metadata documents, each with a URL and metadata describing its type, format, and role.\n",
    "\n",
    "To get to know the structure you can take a quick look at the EODC Data Catalogue:\n",
    "\n",
    "https://services.eodc.eu/browser/#/?.language=en\n",
    "\n",
    "\n",
    "Further you can look at the AI4SAR_SIG0 catalogue:\n",
    "\n",
    "https://services.eodc.eu/browser/#/v1/collections/AI4SAR_SIG0\n",
    "\n",
    "\n",
    "The database we will work with in this notebook is provided by the EODC. The European Open Data Center (EODC) is an organization that provides access to extensive Earth observation data and services, facilitating the management, processing, and analysis of geospatial information. EODC offers a variety of datasets, including satellite imagery from missions such as Sentinel and Landsat, which are essential for environmental monitoring, climate research, and other geospatial applications. \n",
    "\n",
    "\n"
   ]
  },
  {
   "cell_type": "markdown",
   "id": "f48f1308-b882-47e2-b521-d3e76aa2f4d0",
   "metadata": {},
   "source": [
    "# Exploring Data with STAC and Xarray\n",
    "\n",
    "In this notebook, we will demonstrate how to use the STAC API in conjunction with open-source Python libraries to load data into *Xarray* via *odc-stac*. The objective of this notebook is to showcase the integration of data discovery (using STAC) and data analysis (using Xarray).\n",
    "\n",
    "Xarray is an open-source Python library designed to handle multi-dimensional arrays and datasets, extending the capabilities of NumPy. It provides labeled arrays and datasets, enabling users to work with complex data structures like time series, climate data, and other scientific datasets. Xarray integrates seamlessly with other scientific libraries like Pandas and Dask, allowing for efficient data manipulation, analysis, and visualization."
   ]
  },
  {
   "cell_type": "markdown",
   "id": "382f3537",
   "metadata": {},
   "source": [
    "## Import required packages"
   ]
  },
  {
   "cell_type": "markdown",
   "id": "b3261330",
   "metadata": {},
   "source": [
    "Before we import required packages we have to install ODC. The Open Data Cube (ODC) is an open-source project designed to facilitate the use of Earth observation data. It provides a scalable platform for managing, analyzing, and visualizing large volumes of geospatial data. We will use this package later on."
   ]
  },
  {
   "cell_type": "code",
   "execution_count": 1,
   "id": "94577044",
   "metadata": {},
   "outputs": [
    {
     "name": "stdout",
     "output_type": "stream",
     "text": [
      "Installation completed.\n"
     ]
    }
   ],
   "source": [
    "from IPython.display import clear_output\n",
    "\n",
    "# This command lets you directly install ODC without using the terminal.\n",
    "!pip install odc-stac\n",
    "\n",
    "# Clear the output to hide the installation details\n",
    "clear_output()\n",
    "\n",
    "print(\"Installation completed.\")\n"
   ]
  },
  {
   "cell_type": "code",
   "execution_count": 2,
   "id": "ebd893b5",
   "metadata": {},
   "outputs": [],
   "source": [
    "#These are the important packages we first need to import \n",
    "\n",
    "import os\n",
    "import json\n",
    "from datetime import datetime\n",
    "import numpy as np\n",
    "import xarray as xr\n",
    "import pandas as pd\n",
    "import matplotlib.pyplot as plt\n",
    "\n",
    "import pystac\n",
    "from pystac_client import Client\n",
    "from odc import stac as odc_stac\n",
    "from odc.geo.geobox import GeoBox\n",
    "from affine import Affine"
   ]
  },
  {
   "cell_type": "code",
   "execution_count": 3,
   "id": "6c03cc6f",
   "metadata": {},
   "outputs": [
    {
     "data": {
      "text/html": [
       "<style>.container { width:90% !important; }</style>"
      ],
      "text/plain": [
       "<IPython.core.display.HTML object>"
      ]
     },
     "metadata": {},
     "output_type": "display_data"
    }
   ],
   "source": [
    "#The code here adjusts the width of the nootebook display container\n",
    "\n",
    "from IPython.display import display, HTML\n",
    "display(HTML(\"<style>.container { width:90% !important; }</style>\"))"
   ]
  },
  {
   "cell_type": "markdown",
   "id": "f2189272",
   "metadata": {},
   "source": [
    "## Create STAC client and connecting to the server"
   ]
  },
  {
   "cell_type": "markdown",
   "id": "e10c1e45",
   "metadata": {},
   "source": [
    "The API (Application Programmin Interface) we use connects us with the EODC database using STAC convention. If we open https://stac.eodc.eu/api/v1 in our browser we will see a JSON file including a set of links below \"conformsTo\" which describes the structure of the API for example how we filter through catalogues looking for items. Below \"links\" we will find the links to the catalogues themselves. This JSON file is basically the underlying structure for the catalogue we already opened before showing us the EODC web interface of the catalogue (https://services.eodc.eu/browser/#/?.language=en).\n",
    "\n",
    "\n",
    "The AI4SAR collection we will work with includes a few items from Sentinel 1 for differnt times in the year 2023 nearby the area of Austria."
   ]
  },
  {
   "cell_type": "code",
   "execution_count": 4,
   "id": "eccf6af2",
   "metadata": {},
   "outputs": [],
   "source": [
    "#This is how we access the AI4SAR collection via the stac_api\n",
    "\n",
    "stac_api = \"https://stac.eodc.eu/api/v1\"\n",
    "client = Client.open(stac_api)\n",
    "\n",
    "collection_id=\"GFM\""
   ]
  },
  {
   "cell_type": "markdown",
   "id": "c1f16574",
   "metadata": {},
   "source": [
    "In this notebook we want to take a look a the Copernicus Sentinel-1 data in the area of Pakistan in the year 2022 where a terrible flood took place. \n",
    "\n",
    "https://en.wikipedia.org/wiki/2022_Pakistan_floods"
   ]
  },
  {
   "cell_type": "markdown",
   "id": "a8c95085",
   "metadata": {},
   "source": [
    "## Load STAC Items into xarray Dataset using odc.stac"
   ]
  },
  {
   "cell_type": "markdown",
   "id": "7a966174",
   "metadata": {},
   "source": [
    "Here we search for certain items in the AI4SAR_SIG0 collection, defining the area and time period.\n"
   ]
  },
  {
   "cell_type": "code",
   "execution_count": 5,
   "id": "c71e13c0",
   "metadata": {},
   "outputs": [],
   "source": [
    "collection_id=\"GFM\"\n",
    "\n",
    "bbox = [-180, -90, 180, 90]  # [lon_min, lat_min, lon_max, lat_max]\n",
    "start_date = \"2022-09-01\"\n",
    "end_date = \"2022-09-07\"\n",
    "\n",
    "query = client.search(bbox=bbox,\n",
    "                        collections=[collection_id],\n",
    "                        datetime=f\"{start_date}/{end_date}\",\n",
    "                        )\n",
    "q_items = sorted(query.items(), key=lambda x: x.id)"
   ]
  },
  {
   "cell_type": "code",
   "execution_count": 6,
   "id": "9beec6aa",
   "metadata": {},
   "outputs": [
    {
     "name": "stdout",
     "output_type": "stream",
     "text": [
      "\n",
      " The length of the list of items is 68\n"
     ]
    }
   ],
   "source": [
    "print(\"\\n\",\"The length of the list of items is\",len(q_items))"
   ]
  },
  {
   "cell_type": "markdown",
   "id": "ed325c9b",
   "metadata": {},
   "source": [
    "In the context of the GFM (Global Flood Monitoring) data, the bands variable specifies the types of data layers or assets you want to load from the dataset, with each \"band\" representing specific information or measurements. For instance, bands = (\"refwater\", \"flood_extent\") indicates an interest in loading two specific types of data: refwater, which likely represents reference water bodies used for comparison against current observations to identify changes or anomalies such as flooding, and flood_extent, which shows the areas currently flooded. When calling odc_stac.stac_load(q_items, bands=bands, ...), these specific data layers from the GFM dataset are loaded into an Xarray dataset, allowing for further analysis and visualization."
   ]
  },
  {
   "cell_type": "code",
   "execution_count": 7,
   "id": "233f782d",
   "metadata": {},
   "outputs": [
    {
     "data": {
      "text/plain": [
       "{'gsd': 20,\n",
       " 'datetime': '2022-09-01T01:08:42Z',\n",
       " 'Equi7Tile': 'AS020M_E021N030T3',\n",
       " 'blocksize': {'x': 512, 'y': 512},\n",
       " 'proj:bbox': [2100000, 3000000, 2400000, 3300000],\n",
       " 'proj:wkt2': 'PROJCS[\"Azimuthal_Equidistant\",GEOGCS[\"WGS 84\",DATUM[\"WGS_1984\",SPHEROID[\"WGS 84\",6378137,298.257223563,AUTHORITY[\"EPSG\",\"7030\"]],AUTHORITY[\"EPSG\",\"6326\"]],PRIMEM[\"Greenwich\",0],UNIT[\"degree\",0.0174532925199433],AUTHORITY[\"EPSG\",\"4326\"]],PROJECTION[\"Azimuthal_Equidistant\"],PARAMETER[\"false_easting\",4340913.84808],PARAMETER[\"false_northing\",4812712.92347],PARAMETER[\"longitude_of_center\",94.0],PARAMETER[\"latitude_of_center\",47.0],UNIT[\"metre\",1,AUTHORITY[\"EPSG\",\"9001\"]]]',\n",
       " 'proj:shape': [15000, 15000],\n",
       " 'constellation': 'sentinel-1',\n",
       " 'proj:geometry': {'type': 'Polygon',\n",
       "  'coordinates': [[[2100000.0, 3000000.0],\n",
       "    [2100000.0, 3300000.0],\n",
       "    [2400000.0, 3300000.0],\n",
       "    [2400000.0, 3000000.0],\n",
       "    [2100000.0, 3000000.0]]]},\n",
       " 'proj:transform': [20, 0, 2100000, 0, -20, 3300000]}"
      ]
     },
     "execution_count": 7,
     "metadata": {},
     "output_type": "execute_result"
    }
   ],
   "source": [
    "q_items[0].properties"
   ]
  },
  {
   "cell_type": "code",
   "execution_count": 8,
   "id": "f390aa6e",
   "metadata": {},
   "outputs": [
    {
     "data": {
      "text/plain": [
       "{'refwater': <Asset href=https://data.eodc.eu/collections/GFM_REFWATER/V03/EQUI7_AS020M/E021N030T3/REFERENCE_WATER_OUT_S1-_IW_GRDH_1S-V_20200901T131143_20210930T010902_MONTH-_------_----_V03.tif>,\n",
       " 'flood_extent': <Asset href=https://data.eodc.eu/collections/GFM_LAYERS/flood_extent/AS020M/2022/09/01/ENSEMBLE_FLOOD_20220901T010842_VV_AS020M_E021N030T3.tif>}"
      ]
     },
     "execution_count": 8,
     "metadata": {},
     "output_type": "execute_result"
    }
   ],
   "source": [
    "q_items[0].assets"
   ]
  },
  {
   "cell_type": "code",
   "execution_count": 9,
   "id": "59d3c690",
   "metadata": {},
   "outputs": [],
   "source": [
    "bands = (\"refwater\", \"flood_extent\")\n",
    "crs = \"EPSG:4326\"  # This may need to be adapted based on your CRS\n",
    "bbox = [-60, -30, 60, 30]\n",
    "res =  0.02\n",
    "\n",
    "sig0_ds = odc_stac.stac_load(q_items,\n",
    "                        bands=bands,\n",
    "                        crs=crs,\n",
    "                        resolution=res,\n",
    "                        bbox=bbox,\n",
    "                        use_overviews=False,\n",
    "                        )\n"
   ]
  },
  {
   "cell_type": "code",
   "execution_count": 12,
   "id": "8efc0f4d",
   "metadata": {},
   "outputs": [
    {
     "ename": "NameError",
     "evalue": "name 'sid0_ds' is not defined",
     "output_type": "error",
     "traceback": [
      "\u001b[0;31m---------------------------------------------------------------------------\u001b[0m",
      "\u001b[0;31mNameError\u001b[0m                                 Traceback (most recent call last)",
      "Cell \u001b[0;32mIn[12], line 1\u001b[0m\n\u001b[0;32m----> 1\u001b[0m \u001b[43msid0_ds\u001b[49m\n",
      "\u001b[0;31mNameError\u001b[0m: name 'sid0_ds' is not defined"
     ]
    }
   ],
   "source": [
    "sid0_ds"
   ]
  },
  {
   "cell_type": "code",
   "execution_count": null,
   "id": "a6fb8557",
   "metadata": {},
   "outputs": [],
   "source": []
  }
 ],
 "metadata": {
  "kernelspec": {
   "display_name": "Python 3 (ipykernel)",
   "language": "python",
   "name": "python3"
  },
  "language_info": {
   "codemirror_mode": {
    "name": "ipython",
    "version": 3
   },
   "file_extension": ".py",
   "mimetype": "text/x-python",
   "name": "python",
   "nbconvert_exporter": "python",
   "pygments_lexer": "ipython3",
   "version": "3.12.3"
  }
 },
 "nbformat": 4,
 "nbformat_minor": 5
}
