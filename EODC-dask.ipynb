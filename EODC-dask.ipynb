{
 "cells": [
  {
   "cell_type": "code",
   "execution_count": 2,
   "id": "a3ffe9eb",
   "metadata": {},
   "outputs": [],
   "source": [
    "import os\n",
    "import json\n",
    "from datetime import datetime\n",
    "import numpy as np\n",
    "import xarray as xr\n",
    "import pandas as pd\n",
    "import matplotlib as plt\n",
    "import dask\n",
    "import graphviz\n",
    "import time\n",
    "\n",
    "\n"
   ]
  },
  {
   "cell_type": "markdown",
   "id": "b5177fc8",
   "metadata": {},
   "source": [
    "## EODC and dask\n",
    "\n",
    "https://github.com/eodcgmbh/eodc-examples/blob/main/demos/dask.ipynb\n",
    "\n",
    "To use dask on the external servers of EODC we have to follow the tutorial from above. In order to have access to these servers we have to have a username. "
   ]
  },
  {
   "cell_type": "code",
   "execution_count": null,
   "id": "e30af811",
   "metadata": {},
   "outputs": [],
   "source": []
  }
 ],
 "metadata": {
  "kernelspec": {
   "display_name": "Python 3 (ipykernel)",
   "language": "python",
   "name": "python3"
  },
  "language_info": {
   "codemirror_mode": {
    "name": "ipython",
    "version": 3
   },
   "file_extension": ".py",
   "mimetype": "text/x-python",
   "name": "python",
   "nbconvert_exporter": "python",
   "pygments_lexer": "ipython3",
   "version": "3.12.4"
  }
 },
 "nbformat": 4,
 "nbformat_minor": 5
}
